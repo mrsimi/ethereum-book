{
 "cells": [
  {
   "cell_type": "markdown",
   "metadata": {},
   "source": [
    "Turning mnemonic seed to master private key"
   ]
  },
  {
   "cell_type": "markdown",
   "metadata": {},
   "source": [
    "1. Perform a key streching function with 2048 rounds of hashing using HMAC. i.e. PBKDF2 with SHA256. PBKDF2 has 5 input parameters: a pseudorandom function (1), password (2), a salt (3), a number of iterations (4), and a key length in bytes (5).\n",
    "\n",
    "In our case, (1) the Password: 12 mnemonic code words, (2)salt is the passhrase: \"mnemonic\"+ an optional phrase (3) number of iterations is 2048 , and (4) key length is 512 bits (64 bytes)\n",
    "\n"
   ]
  },
  {
   "cell_type": "code",
   "execution_count": 30,
   "metadata": {},
   "outputs": [],
   "source": [
    "import hashlib\n",
    "\n",
    "passphrase = \"SuperDuperSecret\"\n",
    "passphrase = \"mnemonic\"+passphrase\n",
    "mnemonic = \"army van defense carry jealous true garbage claim echo media make crunch\"\n",
    "\n",
    "passphrase_bytes = bytes(passphrase, 'utf-8')\n",
    "mnemonic_bytes = bytes(mnemonic, 'utf-8')\n",
    "\n",
    "itr = 2048\n",
    "key_length = 512 #bits\n",
    "\n",
    "#hashlib.pbkdf2_hmac(hash_name, password, salt, iterations, dklen=None)\n",
    "stretch_seed = hashlib.pbkdf2_hmac(\"sha512\", mnemonic_bytes, passphrase_bytes, itr, key_length//8)\n"
   ]
  },
  {
   "cell_type": "markdown",
   "metadata": {},
   "source": [
    "2. Generating Master Key. \n",
    "\n",
    "(1) Compute HMAC-SHA512 of seed with key being \"Bitcoin seed\"\n",
    "\n",
    "(2) Serialize following the specification in bip0032 https://github.com/bitcoin/bips/blob/master/bip-0032.mediawiki#Serialization_format\n",
    "\n",
    "i. 4 byte: version bytes (mainnet: 0x0488B21E public, 0x0488ADE4 private; testnet: 0x043587CF public, 0x04358394 private)\n",
    "\n",
    "ii. 1 byte: depth: 0x00 for master nodes, 0x01 for level-1 derived keys, ....\n",
    "\n",
    "iii. 4 bytes: the fingerprint of the parent's key (0x00000000 if master key)\n",
    "\n",
    "iv. 4 bytes: child number. This is ser32(i) for i in xi = xpar/i, with xi the key being serialized. (0x00000000 if master key)\n",
    "\n",
    "v. 32 bytes: the chain code\n",
    "\n",
    "vi. 33 bytes: the public key or private key data (serP(K) for public keys, 0x00 || ser256(k) for private keys)\n",
    "\n",
    "\n",
    "(3) Double hash using sha256 and converting to a Base58 representatin"
   ]
  },
  {
   "cell_type": "code",
   "execution_count": 37,
   "metadata": {},
   "outputs": [
    {
     "data": {
      "text/plain": [
       "b\"\\x05\\xc0\\xf1\\x9a\\x9f\\xe4\\xcc\\x13\\x9c\\x17\\xd7\\xe61=\\x81P\\xdf\\xed\\xa6\\x91\\xe2m\\xfb\\x8b\\xfe\\x08\\x94\\xfc'\\x18\\xf7Z\\x13\\xa8\\xe7\\x14\\x9c\\xbd\\xa7\\x86\\x9a\\xe2\\xd6\\xe7\\x1d\\x89T\\x02\\xe2\\xdbW\\x83a\\x0e\\x82B\\xa0\\x7f\\xd4\\x02\\x93\\xaf?\\xc3\""
      ]
     },
     "execution_count": 37,
     "metadata": {},
     "output_type": "execute_result"
    }
   ],
   "source": [
    "import hmac\n",
    "\n",
    "# hmac.new(key, msg=None, digestmod='')¶\n",
    "key = bytes(\"Bitcoin seed\", 'utf-8')\n",
    "master_key_seed = hmac.new(key, stretch_seed, digestmod=hashlib.sha512).digest()\n",
    "\n",
    "#serialization\n",
    " xprv = b\"\\x04\\x88\\xad\\xe4\"  # Version for private mainnet\n",
    "        if testnet:\n",
    "            xprv = b\"\\x04\\x35\\x83\\x94\"  # Version for private testnet\n",
    "        xprv += b\"\\x00\" * 9  # Depth, parent fingerprint, and child number\n",
    "        xprv += seed[32:]  # Chain code\n",
    "        xprv += b\"\\x00\" + seed[:32]  # Master key\n",
    "\n",
    "        # Double hash using SHA256\n",
    "        hashed_xprv = hashlib.sha256(xprv).digest()\n",
    "        hashed_xprv = hashlib.sha256(hashed_xprv).digest()\n",
    "\n",
    "        # Append 4 bytes of checksum\n",
    "        xprv += hashed_xprv[:4]\n",
    "\n",
    "        # Return base58\n",
    "        return b58encode(xprv)\n",
    "    \n",
    "#(mainnet: 0x0488B21E public, 0x0488ADE4 private; testnet: 0x043587CF public, 0x04358394 private)\n",
    "# we choose testnet\n",
    "xprv = b\"\\x04\\x35\\x83\\x94\" #4 byte for private testnet key\n",
    "xprv += b\"\\x00\"*9 #1 byte: depth: 0x00 for master nodes, 0x01 for level-1 derived keys,"
   ]
  },
  {
   "cell_type": "code",
   "execution_count": 47,
   "metadata": {},
   "outputs": [],
   "source": [
    "import hmac\n",
    "\n",
    "#computing HMAC-SHA 512 \n",
    "# hmac.new(key, msg=None, digestmod='')¶\n",
    "key = bytes(\"Bitcoin seed\", 'utf-8')\n",
    "seed = hmac.new(key, stretch_seed, digestmod=hashlib.sha512).digest()\n",
    "\n",
    "master_key = seed[:32] #master key\n",
    "chain_code = seed[32:]\n",
    "\n",
    "#serialization \n",
    "#assumption: using a testnet\n",
    "xprv = b\"\\x04\\x35\\x83\\x94\" \n",
    "xprv += b\"\\x00\"* 9 # depth, fingerprint of parents key, and child number\n",
    "xprv += chain_code\n",
    "xprv += b\"\\x00\" + master_key\n",
    "\n",
    "#Double hashing and converting to base58"
   ]
  },
  {
   "cell_type": "code",
   "execution_count": 51,
   "metadata": {},
   "outputs": [
    {
     "ename": "ModuleNotFoundError",
     "evalue": "No module named 'base58'",
     "output_type": "error",
     "traceback": [
      "\u001b[0;31m---------------------------------------------------------------------------\u001b[0m",
      "\u001b[0;31mModuleNotFoundError\u001b[0m                       Traceback (most recent call last)",
      "\u001b[0;32m<ipython-input-51-9ed4f942eb7b>\u001b[0m in \u001b[0;36m<module>\u001b[0;34m\u001b[0m\n\u001b[0;32m----> 1\u001b[0;31m \u001b[0;32mimport\u001b[0m \u001b[0mbase58\u001b[0m\u001b[0;34m\u001b[0m\u001b[0;34m\u001b[0m\u001b[0m\n\u001b[0m",
      "\u001b[0;31mModuleNotFoundError\u001b[0m: No module named 'base58'"
     ]
    }
   ],
   "source": [
    "import base58"
   ]
  },
  {
   "cell_type": "code",
   "execution_count": 48,
   "metadata": {},
   "outputs": [],
   "source": [
    "xprv = b\"\\x04\\x35\\x83\\x94\"  # Version for private testnet\n",
    "xprv += b\"\\x00\" * 9  # Depth, parent fingerprint, and child number\n",
    "xprv += seed[32:]  # Chain code\n",
    "xprv += b\"\\x00\" + seed[:32]"
   ]
  },
  {
   "cell_type": "code",
   "execution_count": 50,
   "metadata": {},
   "outputs": [
    {
     "data": {
      "text/plain": [
       "78"
      ]
     },
     "execution_count": 50,
     "metadata": {},
     "output_type": "execute_result"
    }
   ],
   "source": [
    "len(xprv)"
   ]
  }
 ],
 "metadata": {
  "kernelspec": {
   "display_name": "Python 3",
   "language": "python",
   "name": "python3"
  },
  "language_info": {
   "codemirror_mode": {
    "name": "ipython",
    "version": 3
   },
   "file_extension": ".py",
   "mimetype": "text/x-python",
   "name": "python",
   "nbconvert_exporter": "python",
   "pygments_lexer": "ipython3",
   "version": "3.8.5"
  }
 },
 "nbformat": 4,
 "nbformat_minor": 4
}
