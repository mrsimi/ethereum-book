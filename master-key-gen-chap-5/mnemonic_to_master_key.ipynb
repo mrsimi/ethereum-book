{
 "cells": [
  {
   "cell_type": "markdown",
   "metadata": {},
   "source": [
    "Turning mnemonic seed to master private key"
   ]
  },
  {
   "cell_type": "markdown",
   "metadata": {},
   "source": [
    "1. Perform a key streching function with 2048 rounds of hashing using HMAC. i.e. PBKDF2 with SHA256. PBKDF2 has 5 input parameters: a pseudorandom function (1), password (2), a salt (3), a number of iterations (4), and a key length in bytes (5).\n",
    "\n",
    "In our case, (1) the Password: 12 mnemonic code words, (2)salt is the passhrase: \"mnemonic\"+ an optional phrase (3) number of iterations is 2048 , and (4) key length is 512 bits (64 bytes)\n",
    "\n"
   ]
  },
  {
   "cell_type": "code",
   "execution_count": 3,
   "metadata": {},
   "outputs": [
    {
     "output_type": "stream",
     "name": "stdout",
     "text": [
      "b';]\\xf1m\\xf2\\x15q\\x04\\xcf\\xdd\"\\x83\\x01b\\xa5\\xe1p\\xc0\\x16\\x16S\\xe3\\xaf\\xe6\\xc8\\x8d\\xef\\xee\\xfb\\x08\\x18\\xc7\\x93\\xdb\\xb2\\x8a\\xb3\\xab\\t\\x18\\x97\\xd0qXa\\xdc\\x8a\\x185\\x8f\\x80\\xb7\\x9dI\\xac\\xf6AB\\xaeW\\x03}\\x1dT'\n"
     ]
    }
   ],
   "source": [
    "import hashlib\n",
    "\n",
    "passphrase = \"SuperDuperSecret\"\n",
    "passphrase = \"mnemonic\"+passphrase\n",
    "mnemonic = \"army van defense carry jealous true garbage claim echo media make crunch\"\n",
    "\n",
    "passphrase_bytes = bytes(passphrase, 'utf-8')\n",
    "mnemonic_bytes = bytes(mnemonic, 'utf-8')\n",
    "\n",
    "itr = 2048\n",
    "key_length = 512 #bits\n",
    "\n",
    "#hashlib.pbkdf2_hmac(hash_name, password, salt, iterations, dklen=None)\n",
    "stretch_seed = hashlib.pbkdf2_hmac(\"sha512\", mnemonic_bytes, passphrase_bytes, itr, key_length//8)\n",
    "\n",
    "print(stretch_seed)\n"
   ]
  },
  {
   "cell_type": "markdown",
   "metadata": {},
   "source": [
    "2. Generating Master Key. \n",
    "\n",
    "(1) Compute HMAC-SHA512 of seed with key being \"Bitcoin seed\"\n",
    "\n",
    "(2) Serialize following the specification in bip0032 https://github.com/bitcoin/bips/blob/master/bip-0032.mediawiki#Serialization_format\n",
    "\n",
    "i. 4 byte: version bytes (mainnet: 0x0488B21E public, 0x0488ADE4 private; testnet: 0x043587CF public, 0x04358394 private)\n",
    "\n",
    "ii. 1 byte: depth: 0x00 for master nodes, 0x01 for level-1 derived keys, ....\n",
    "\n",
    "iii. 4 bytes: the fingerprint of the parent's key (0x00000000 if master key)\n",
    "\n",
    "iv. 4 bytes: child number. This is ser32(i) for i in xi = xpar/i, with xi the key being serialized. (0x00000000 if master key)\n",
    "\n",
    "v. 32 bytes: the chain code\n",
    "\n",
    "vi. 33 bytes: the public key or private key data (serP(K) for public keys, 0x00 || ser256(k) for private keys)\n",
    "\n",
    "\n",
    "(3) Perform a SHA-256 checksum achieved by Double hash using sha256 the result from (2), then selecting the first 32 bits (4 bytes)\n",
    "(4) Returning th base58"
   ]
  },
  {
   "cell_type": "code",
   "execution_count": 11,
   "metadata": {},
   "outputs": [
    {
     "output_type": "stream",
     "name": "stdout",
     "text": [
      "b'xprv9s21ZrQH143K2Fi7kfpyykRksvVqvQsS6gfKA39LYFzUzPuJnuAiwtqWm8UZH8UcPv9neGxEUbnQVwEvsnk8cXjncGwo7LRtaywUgKQ6LLy'\n"
     ]
    }
   ],
   "source": [
    "import hmac\n",
    "import base58\n",
    "\n",
    "#computing HMAC-SHA 512 \n",
    "# hmac.new(key, msg=None, digestmod='')¶\n",
    "key = bytes(\"Bitcoin seed\", 'utf-8')\n",
    "seed = hmac.new(key, stretch_seed, digestmod=hashlib.sha512).digest()\n",
    "\n",
    "master_key = seed[:32] #master key\n",
    "chain_code = seed[32:]\n",
    "\n",
    "#serialization \n",
    "#assumption: using a testnet\n",
    "xprv = b\"\\x04\\x88\\xAD\\xE4\" \n",
    "xprv += b\"\\x00\"* 9 # depth, fingerprint of parents key, and child number\n",
    "xprv += chain_code\n",
    "xprv += b\"\\x00\" + master_key\n",
    "\n",
    "#Double hashing and converting to base58\n",
    "hashed_xprv = hashlib.sha256(xprv).digest()\n",
    "hashed_xprv = hashlib.sha256(hashed_xprv).digest()\n",
    "\n",
    "#selecting first 32 bits and appending it to the serialized result\n",
    "xprv += hashed_xprv[:4]\n",
    "\n",
    "root_key = base58.b58encode(xprv)\n",
    "\n",
    "print(root_key)"
   ]
  },
  {
   "cell_type": "code",
   "execution_count": null,
   "metadata": {},
   "outputs": [],
   "source": []
  }
 ],
 "metadata": {
  "kernelspec": {
   "name": "python394jvsc74a57bd0aee8b7b246df8f9039afb4144a1f6fd8d2ca17a180786b69acc140d282b71a49",
   "display_name": "Python 3.9.4 64-bit"
  },
  "language_info": {
   "codemirror_mode": {
    "name": "ipython",
    "version": 3
   },
   "file_extension": ".py",
   "mimetype": "text/x-python",
   "name": "python",
   "nbconvert_exporter": "python",
   "pygments_lexer": "ipython3",
   "version": "3.9.4"
  },
  "metadata": {
   "interpreter": {
    "hash": "aee8b7b246df8f9039afb4144a1f6fd8d2ca17a180786b69acc140d282b71a49"
   }
  }
 },
 "nbformat": 4,
 "nbformat_minor": 4
}