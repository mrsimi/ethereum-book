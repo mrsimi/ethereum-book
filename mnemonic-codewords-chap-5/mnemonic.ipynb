{
 "cells": [
  {
   "cell_type": "markdown",
   "metadata": {},
   "source": [
    "Create a cryptographically random sequence S of 128 to 256 bits."
   ]
  },
  {
   "cell_type": "code",
   "execution_count": 1,
   "metadata": {},
   "outputs": [],
   "source": [
    "import os \n",
    "from base64 import b64encode\n",
    "import binascii\n",
    "\n",
    "bit_length = 128\n",
    "rand_bytes = os.urandom(bit_length // 8)\n",
    "rand_bits = ''.join(format(byte, '08b') for byte in rand_bytes)"
   ]
  },
  {
   "cell_type": "code",
   "execution_count": 2,
   "metadata": {},
   "outputs": [],
   "source": [
    "len(rand_bits) /32"
   ]
  },
  {
   "cell_type": "markdown",
   "metadata": {},
   "source": [
    "Create a checksum of S by taking the first length-of-S ÷ 32 bits of the SHA-256 hash of S. \n",
    "\n",
    "(1) Take the hash of the random bytes  (2) Take the first (length of bits) / 4 bits"
   ]
  },
  {
   "cell_type": "code",
   "execution_count": 3,
   "metadata": {},
   "outputs": [],
   "source": [
    "import hashlib\n",
    "\n",
    "# taking hash of random bytes\n",
    "checksum_seq = hashlib.sha256()\n",
    "checksum_seq.update(rand_bytes)\n",
    "\n",
    "checksum_bytes = checksum_seq.digest()\n",
    "checksum_bits = ''.join(format(byte, '08b') for byte in checksum_bytes)\n",
    "\n",
    "#selecting first 128/32 bits = 4 bits\n",
    "checksum_result = checksum_bits[0:4]"
   ]
  },
  {
   "cell_type": "markdown",
   "metadata": {},
   "source": [
    "Add the checksum to the end of the random sequence S. Lenght of resulting sequence = length of random sequence + (length of random sequence/32). \n",
    "\n",
    "in this case 128 + (128/32) = 132"
   ]
  },
  {
   "cell_type": "code",
   "execution_count": 4,
   "metadata": {},
   "outputs": [],
   "source": [
    "resulting_sequence = rand_bits + checksum_result"
   ]
  },
  {
   "cell_type": "code",
   "execution_count": 5,
   "metadata": {},
   "outputs": [
    {
     "data": {
      "text/plain": [
       "132"
      ]
     },
     "execution_count": 5,
     "metadata": {},
     "output_type": "execute_result"
    }
   ],
   "source": [
    "len(resulting_sequence)"
   ]
  },
  {
   "cell_type": "markdown",
   "metadata": {},
   "source": [
    "Divide the sequence-and-checksum concatenation into sections of 11 bits."
   ]
  },
  {
   "cell_type": "code",
   "execution_count": 6,
   "metadata": {},
   "outputs": [],
   "source": [
    "n = 11\n",
    "sections = [resulting_sequence[i:i+n] for i in range(0, len(resulting_sequence), n)]"
   ]
  },
  {
   "cell_type": "code",
   "execution_count": 7,
   "metadata": {},
   "outputs": [
    {
     "data": {
      "text/plain": [
       "12"
      ]
     },
     "execution_count": 7,
     "metadata": {},
     "output_type": "execute_result"
    }
   ],
   "source": [
    "len(sections)"
   ]
  },
  {
   "cell_type": "markdown",
   "metadata": {},
   "source": [
    "Map each 11-bit value to a word from the predefined dictionary of 2,048 words."
   ]
  },
  {
   "cell_type": "code",
   "execution_count": 8,
   "metadata": {},
   "outputs": [],
   "source": [
    "#loading the english word list\n",
    "wordlist_path = \"wordlist/english.txt\"\n",
    "wordlist = open(wordlist_path, \"r\")\n",
    "\n",
    "all_lines = wordlist.readlines()\n",
    "\n",
    "#convert each 11 bit in the section to decimal\n",
    "section_decimal = [int(bit_value,2) for bit_value in sections]\n",
    "\n",
    "#map the decimal to the line number for wordlist\n",
    "wordlist_arr = [all_lines[n-1].rstrip(\"\\n\") for n in section_decimal]"
   ]
  },
  {
   "cell_type": "code",
   "execution_count": 11,
   "metadata": {},
   "outputs": [
    {
     "data": {
      "text/plain": [
       "[270, 1750, 1726, 1717, 400, 1331, 2, 152, 1202, 625, 1809, 323]"
      ]
     },
     "execution_count": 11,
     "metadata": {},
     "output_type": "execute_result"
    }
   ],
   "source": [
    "section_decimal"
   ]
  },
  {
   "cell_type": "markdown",
   "metadata": {},
   "source": [
    "Create the mnemonic code from the sequence of words, maintaining the order."
   ]
  },
  {
   "cell_type": "code",
   "execution_count": 10,
   "metadata": {},
   "outputs": [
    {
     "name": "stdout",
     "output_type": "stream",
     "text": [
      "mnemonic code sequence:\n",
      "1 canvas\n",
      "2 survey\n",
      "3 stumble\n",
      "4 story\n",
      "5 cradle\n",
      "6 play\n",
      "7 ability\n",
      "8 base\n",
      "9 normal\n",
      "10 evoke\n",
      "11 tilt\n",
      "12 choose\n"
     ]
    }
   ],
   "source": [
    "print(\"mnemonic code sequence:\")\n",
    "for i, word in enumerate(wordlist_arr):\n",
    "    print(i+1, word)"
   ]
  }
 ],
 "metadata": {
  "kernelspec": {
   "display_name": "Python 3",
   "language": "python",
   "name": "python3"
  },
  "language_info": {
   "codemirror_mode": {
    "name": "ipython",
    "version": 3
   },
   "file_extension": ".py",
   "mimetype": "text/x-python",
   "name": "python",
   "nbconvert_exporter": "python",
   "pygments_lexer": "ipython3",
   "version": "3.8.5"
  }
 },
 "nbformat": 4,
 "nbformat_minor": 4
}
